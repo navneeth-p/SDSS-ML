{
 "cells": [
  {
   "cell_type": "markdown",
   "metadata": {},
   "source": [
    "Filtering the dataset based on covid +ve and -ve"
   ]
  },
  {
   "cell_type": "code",
   "execution_count": 68,
   "metadata": {},
   "outputs": [
    {
     "name": "stdout",
     "output_type": "stream",
     "text": [
      "['galaxy', 'star']\n"
     ]
    }
   ],
   "source": [
    "import pandas as pd\n",
    "import os\n",
    "import numpy as np\n",
    "\n",
    "# datapath1='covid-chestxray-dataset-master'\n",
    "# dataset_path='dataset'\n",
    "\n",
    "# categories=os.listdir(dataset_path)\n",
    "# print(categories)\n",
    "\n",
    "# dataset=pd.read_csv(os.path.join(datapath1,'metadata.csv'))\n",
    "# findings=dataset['finding']\n",
    "# image_names=dataset['filename']\n",
    "\n",
    "dataset_path='Cutout Files'\n",
    "\n",
    "categories=os.listdir(dataset_path)\n",
    "print(categories)"
   ]
  },
  {
   "cell_type": "code",
   "execution_count": 69,
   "metadata": {},
   "outputs": [],
   "source": [
    "# positives_index=np.concatenate((np.where(findings=='Pneumonia/Viral/COVID-19')[0],np.where(findings=='Pneumonia/Viral/SARS')[0]))\n",
    "# positive_image_names=image_names[positives_index]"
   ]
  },
  {
   "cell_type": "code",
   "execution_count": 70,
   "metadata": {},
   "outputs": [],
   "source": [
    "import cv2\n",
    "\n",
    "# for positive_image_name in positive_image_names:\n",
    "#     image=cv2.imread(os.path.join(datapath1,'images',positive_image_name))\n",
    "#     try:\n",
    "#         cv2.imwrite(os.path.join(dataset_path,categories[1],positive_image_name),image)\n",
    "#     except Exception as e:\n",
    "#         print(e)"
   ]
  },
  {
   "cell_type": "code",
   "execution_count": 71,
   "metadata": {},
   "outputs": [],
   "source": [
    "# positive_image_names.shape"
   ]
  },
  {
   "cell_type": "code",
   "execution_count": 72,
   "metadata": {},
   "outputs": [],
   "source": [
    "# datapath2='562468_1022626_bundle_archive'\n",
    "\n",
    "# dataset=pd.read_csv(os.path.join(datapath2,'Chest_xray_Corona_Metadata.csv'))\n",
    "# findings=dataset['Label']\n",
    "# image_names=dataset['X_ray_image_name']"
   ]
  },
  {
   "cell_type": "code",
   "execution_count": 73,
   "metadata": {},
   "outputs": [],
   "source": [
    "# negative_index=np.where(findings=='Normal')[0]"
   ]
  },
  {
   "cell_type": "code",
   "execution_count": 74,
   "metadata": {},
   "outputs": [],
   "source": [
    "# negative_image_names=image_names[negative_index]"
   ]
  },
  {
   "cell_type": "code",
   "execution_count": 75,
   "metadata": {},
   "outputs": [],
   "source": [
    "# for negative_image_name in negative_image_names:\n",
    "#     image=cv2.imread(os.path.join(datapath2,'images',negative_image_name))\n",
    "#     try:\n",
    "#         cv2.imwrite(os.path.join(dataset_path,categories[0],negative_image_name),image)\n",
    "#     except Exception as e:\n",
    "#         print(e)\n"
   ]
  },
  {
   "cell_type": "code",
   "execution_count": 76,
   "metadata": {},
   "outputs": [],
   "source": [
    "# negative_image_names.shape"
   ]
  },
  {
   "cell_type": "markdown",
   "metadata": {},
   "source": [
    "# Pre-processing"
   ]
  },
  {
   "cell_type": "code",
   "execution_count": 77,
   "metadata": {},
   "outputs": [
    {
     "name": "stdout",
     "output_type": "stream",
     "text": [
      "{'galaxy': 0, 'star': 1}\n",
      "['galaxy', 'star']\n",
      "[0, 1]\n"
     ]
    }
   ],
   "source": [
    "import cv2,os\n",
    "\n",
    "data_path='Cutout Files'\n",
    "categories=os.listdir(data_path)\n",
    "labels=[i for i in range(len(categories))]\n",
    "\n",
    "label_dict=dict(zip(categories,labels)) #empty dictionary\n",
    "\n",
    "print(label_dict)\n",
    "print(categories)\n",
    "print(labels)"
   ]
  },
  {
   "cell_type": "code",
   "execution_count": 78,
   "metadata": {
    "tags": [
     "outputPrepend"
    ]
   },
   "outputs": [],
   "source": [
    "img_size=100\n",
    "data=[]\n",
    "target=[]\n",
    "\n",
    "\n",
    "for category in categories:\n",
    "    folder_path=os.path.join(data_path,category)\n",
    "    img_names=os.listdir(folder_path)\n",
    "        \n",
    "    for img_name in img_names:\n",
    "        img_path=os.path.join(folder_path,img_name)\n",
    "        img=cv2.imread(img_path)\n",
    "\n",
    "        try:\n",
    "            gray=cv2.cvtColor(img,cv2.COLOR_BGR2GRAY)           \n",
    "            #Coverting the image into gray scale\n",
    "            resized=cv2.resize(gray,(img_size,img_size))\n",
    "            #resizing the gray scale into 100x100, since we need a fixed common size for all the images in the dataset\n",
    "            data.append(resized)\n",
    "            target.append(label_dict[category])\n",
    "            #appending the image and the label(categorized) into the list (dataset)\n",
    "\n",
    "        except Exception as e:\n",
    "            print('Exception:',e)\n",
    "            #if any exception rasied, the exception will be printed here. And pass to the next image"
   ]
  },
  {
   "cell_type": "code",
   "execution_count": 79,
   "metadata": {},
   "outputs": [],
   "source": [
    "import numpy as np\n",
    "data=np.array(data)/255.0\n",
    "data=np.reshape(data,(data.shape[0],img_size,img_size,1))\n",
    "target=np.array(target)\n",
    "\n",
    "from keras.utils import np_utils\n",
    "\n",
    "new_target=np_utils.to_categorical(target)"
   ]
  },
  {
   "cell_type": "code",
   "execution_count": 80,
   "metadata": {},
   "outputs": [],
   "source": [
    "np.save('data',data)\n",
    "np.save('target',new_target)"
   ]
  },
  {
   "cell_type": "markdown",
   "metadata": {},
   "source": [
    "# training the CNN"
   ]
  },
  {
   "cell_type": "code",
   "execution_count": 81,
   "metadata": {},
   "outputs": [],
   "source": [
    "import numpy as np\n",
    "\n",
    "data=np.load('data.npy')\n",
    "target=np.load('target.npy')"
   ]
  },
  {
   "cell_type": "code",
   "execution_count": 82,
   "metadata": {},
   "outputs": [
    {
     "name": "stdout",
     "output_type": "stream",
     "text": [
      "Model: \"sequential_3\"\n",
      "_________________________________________________________________\n",
      " Layer (type)                Output Shape              Param #   \n",
      "=================================================================\n",
      " model_3 (Functional)        (None, 100, 100, 384)     11008     \n",
      "                                                                 \n",
      " conv2d_18 (Conv2D)          (None, 98, 98, 64)        221248    \n",
      "                                                                 \n",
      " activation_6 (Activation)   (None, 98, 98, 64)        0         \n",
      "                                                                 \n",
      " max_pooling2d_6 (MaxPooling  (None, 49, 49, 64)       0         \n",
      " 2D)                                                             \n",
      "                                                                 \n",
      " conv2d_19 (Conv2D)          (None, 47, 47, 32)        18464     \n",
      "                                                                 \n",
      " activation_7 (Activation)   (None, 47, 47, 32)        0         \n",
      "                                                                 \n",
      " max_pooling2d_7 (MaxPooling  (None, 23, 23, 32)       0         \n",
      " 2D)                                                             \n",
      "                                                                 \n",
      " flatten_3 (Flatten)         (None, 16928)             0         \n",
      "                                                                 \n",
      " dropout_9 (Dropout)         (None, 16928)             0         \n",
      "                                                                 \n",
      " dense_9 (Dense)             (None, 128)               2166912   \n",
      "                                                                 \n",
      " dropout_10 (Dropout)        (None, 128)               0         \n",
      "                                                                 \n",
      " dense_10 (Dense)            (None, 64)                8256      \n",
      "                                                                 \n",
      " dropout_11 (Dropout)        (None, 64)                0         \n",
      "                                                                 \n",
      " dense_11 (Dense)            (None, 2)                 130       \n",
      "                                                                 \n",
      "=================================================================\n",
      "Total params: 2,426,018\n",
      "Trainable params: 2,426,018\n",
      "Non-trainable params: 0\n",
      "_________________________________________________________________\n"
     ]
    }
   ],
   "source": [
    "from keras.models import Sequential,Model\n",
    "from keras.layers import Dense, Dropout, Flatten\n",
    "from keras.layers import Conv2D,Activation,MaxPooling2D\n",
    "from keras.utils import normalize\n",
    "from keras.layers import Concatenate\n",
    "from keras import Input\n",
    "from keras.callbacks import ModelCheckpoint\n",
    "\n",
    "input_shape=data.shape[1:] #50,50,1\n",
    "inp=Input(shape=input_shape)\n",
    "convs=[]\n",
    "\n",
    "parrallel_kernels=[3,5,7]\n",
    "\n",
    "for k in range(len(parrallel_kernels)):\n",
    "    conv = Conv2D(128, parrallel_kernels[k],padding='same',activation='relu',input_shape=input_shape,strides=1)(inp)\n",
    "    convs.append(conv)\n",
    "\n",
    "out = Concatenate()(convs)\n",
    "conv_model = Model(inputs=inp, outputs=out)\n",
    "\n",
    "model = Sequential()\n",
    "model.add(conv_model)\n",
    "\n",
    "#This is the first convolution of 64\n",
    "\n",
    "model.add(Conv2D(64,(3,3)))\n",
    "model.add(Activation('relu'))\n",
    "model.add(MaxPooling2D(pool_size=(2,2)))\n",
    "\n",
    "#This is the first convolution of 32\n",
    "model.add(Conv2D(32,(3,3)))\n",
    "model.add(Activation('relu'))\n",
    "model.add(MaxPooling2D(pool_size=(2,2)))\n",
    "\n",
    "# Flatten the results\n",
    "model.add(Flatten())\n",
    "model.add(Dropout(0.5))\n",
    "\n",
    "# 128 neuron hidden layer\n",
    "model.add(Dense(128,activation='relu'))\n",
    "model.add(Dropout(0.5))\n",
    "\n",
    "# 64 neuron hidden layer\n",
    "model.add(Dense(64,activation='relu'))\n",
    "model.add(Dropout(0.5))\n",
    "\n",
    "#2 output neuron. It will contain +ve and -ve\n",
    "model.add(Dense(2,input_dim=128,activation='softmax'))\n",
    "model.compile(loss='categorical_crossentropy',optimizer='adam',metrics=['accuracy'])\n",
    "\n",
    "model.summary()"
   ]
  },
  {
   "cell_type": "code",
   "execution_count": 83,
   "metadata": {},
   "outputs": [],
   "source": [
    "from sklearn.model_selection import train_test_split\n",
    "\n",
    "train_data,test_data,train_target,test_target=train_test_split(data,target,test_size=0.2)"
   ]
  },
  {
   "cell_type": "code",
   "execution_count": 84,
   "metadata": {},
   "outputs": [
    {
     "name": "stdout",
     "output_type": "stream",
     "text": [
      "Epoch 1/15\n",
      "80/80 [==============================] - ETA: 0s - loss: 0.5904 - accuracy: 0.7498"
     ]
    },
    {
     "name": "stderr",
     "output_type": "stream",
     "text": [
      "WARNING:absl:Found untraced functions such as _jit_compiled_convolution_op, _jit_compiled_convolution_op, _update_step_xla, _jit_compiled_convolution_op, _jit_compiled_convolution_op while saving (showing 5 of 6). These functions will not be directly callable after loading.\n"
     ]
    },
    {
     "name": "stdout",
     "output_type": "stream",
     "text": [
      "INFO:tensorflow:Assets written to: model-001.model\\assets\n"
     ]
    },
    {
     "name": "stderr",
     "output_type": "stream",
     "text": [
      "INFO:tensorflow:Assets written to: model-001.model\\assets\n"
     ]
    },
    {
     "name": "stdout",
     "output_type": "stream",
     "text": [
      "80/80 [==============================] - 434s 5s/step - loss: 0.5904 - accuracy: 0.7498 - val_loss: 0.5727 - val_accuracy: 0.7680\n",
      "Epoch 2/15\n",
      "80/80 [==============================] - ETA: 0s - loss: 0.5687 - accuracy: 0.7627"
     ]
    },
    {
     "name": "stderr",
     "output_type": "stream",
     "text": [
      "WARNING:absl:Found untraced functions such as _jit_compiled_convolution_op, _jit_compiled_convolution_op, _update_step_xla, _jit_compiled_convolution_op, _jit_compiled_convolution_op while saving (showing 5 of 6). These functions will not be directly callable after loading.\n"
     ]
    },
    {
     "name": "stdout",
     "output_type": "stream",
     "text": [
      "INFO:tensorflow:Assets written to: model-002.model\\assets\n"
     ]
    },
    {
     "name": "stderr",
     "output_type": "stream",
     "text": [
      "INFO:tensorflow:Assets written to: model-002.model\\assets\n"
     ]
    },
    {
     "name": "stdout",
     "output_type": "stream",
     "text": [
      "80/80 [==============================] - 384s 5s/step - loss: 0.5687 - accuracy: 0.7627 - val_loss: 0.5537 - val_accuracy: 0.7680\n",
      "Epoch 3/15\n",
      "80/80 [==============================] - 378s 5s/step - loss: 0.5665 - accuracy: 0.7627 - val_loss: 0.5547 - val_accuracy: 0.7680\n",
      "Epoch 4/15\n",
      "80/80 [==============================] - ETA: 0s - loss: 0.5579 - accuracy: 0.7627"
     ]
    },
    {
     "name": "stderr",
     "output_type": "stream",
     "text": [
      "WARNING:absl:Found untraced functions such as _jit_compiled_convolution_op, _jit_compiled_convolution_op, _update_step_xla, _jit_compiled_convolution_op, _jit_compiled_convolution_op while saving (showing 5 of 6). These functions will not be directly callable after loading.\n"
     ]
    },
    {
     "name": "stdout",
     "output_type": "stream",
     "text": [
      "INFO:tensorflow:Assets written to: model-004.model\\assets\n"
     ]
    },
    {
     "name": "stderr",
     "output_type": "stream",
     "text": [
      "INFO:tensorflow:Assets written to: model-004.model\\assets\n"
     ]
    },
    {
     "name": "stdout",
     "output_type": "stream",
     "text": [
      "80/80 [==============================] - 394s 5s/step - loss: 0.5579 - accuracy: 0.7627 - val_loss: 0.5472 - val_accuracy: 0.7680\n",
      "Epoch 5/15\n",
      "80/80 [==============================] - 371s 5s/step - loss: 0.5525 - accuracy: 0.7627 - val_loss: 0.5603 - val_accuracy: 0.7680\n",
      "Epoch 6/15\n",
      "80/80 [==============================] - ETA: 0s - loss: 0.5571 - accuracy: 0.7627"
     ]
    },
    {
     "name": "stderr",
     "output_type": "stream",
     "text": [
      "WARNING:absl:Found untraced functions such as _jit_compiled_convolution_op, _jit_compiled_convolution_op, _update_step_xla, _jit_compiled_convolution_op, _jit_compiled_convolution_op while saving (showing 5 of 6). These functions will not be directly callable after loading.\n"
     ]
    },
    {
     "name": "stdout",
     "output_type": "stream",
     "text": [
      "INFO:tensorflow:Assets written to: model-006.model\\assets\n"
     ]
    },
    {
     "name": "stderr",
     "output_type": "stream",
     "text": [
      "INFO:tensorflow:Assets written to: model-006.model\\assets\n"
     ]
    },
    {
     "name": "stdout",
     "output_type": "stream",
     "text": [
      "80/80 [==============================] - 378s 5s/step - loss: 0.5571 - accuracy: 0.7627 - val_loss: 0.5454 - val_accuracy: 0.7680\n",
      "Epoch 7/15\n",
      "80/80 [==============================] - ETA: 0s - loss: 0.5507 - accuracy: 0.7627"
     ]
    },
    {
     "name": "stderr",
     "output_type": "stream",
     "text": [
      "WARNING:absl:Found untraced functions such as _jit_compiled_convolution_op, _jit_compiled_convolution_op, _update_step_xla, _jit_compiled_convolution_op, _jit_compiled_convolution_op while saving (showing 5 of 6). These functions will not be directly callable after loading.\n"
     ]
    },
    {
     "name": "stdout",
     "output_type": "stream",
     "text": [
      "INFO:tensorflow:Assets written to: model-007.model\\assets\n"
     ]
    },
    {
     "name": "stderr",
     "output_type": "stream",
     "text": [
      "INFO:tensorflow:Assets written to: model-007.model\\assets\n"
     ]
    },
    {
     "name": "stdout",
     "output_type": "stream",
     "text": [
      "80/80 [==============================] - 375s 5s/step - loss: 0.5507 - accuracy: 0.7627 - val_loss: 0.5417 - val_accuracy: 0.7680\n",
      "Epoch 8/15\n",
      "80/80 [==============================] - 374s 5s/step - loss: 0.5522 - accuracy: 0.7627 - val_loss: 0.5423 - val_accuracy: 0.7680\n",
      "Epoch 9/15\n",
      "80/80 [==============================] - 370s 5s/step - loss: 0.5502 - accuracy: 0.7627 - val_loss: 0.5417 - val_accuracy: 0.7680\n",
      "Epoch 10/15\n",
      "80/80 [==============================] - 371s 5s/step - loss: 0.5496 - accuracy: 0.7627 - val_loss: 0.5418 - val_accuracy: 0.7680\n",
      "Epoch 11/15\n",
      "80/80 [==============================] - 369s 5s/step - loss: 0.5501 - accuracy: 0.7627 - val_loss: 0.5419 - val_accuracy: 0.7680\n",
      "Epoch 12/15\n",
      "80/80 [==============================] - 371s 5s/step - loss: 0.5501 - accuracy: 0.7627 - val_loss: 0.5417 - val_accuracy: 0.7680\n",
      "Epoch 13/15\n",
      "80/80 [==============================] - 371s 5s/step - loss: 0.5493 - accuracy: 0.7627 - val_loss: 0.5431 - val_accuracy: 0.7680\n",
      "Epoch 14/15\n",
      "80/80 [==============================] - 370s 5s/step - loss: 0.5502 - accuracy: 0.7627 - val_loss: 0.5417 - val_accuracy: 0.7680\n",
      "Epoch 15/15\n",
      "80/80 [==============================] - 445s 6s/step - loss: 0.5486 - accuracy: 0.7627 - val_loss: 0.5419 - val_accuracy: 0.7680\n"
     ]
    }
   ],
   "source": [
    "checkpoint = ModelCheckpoint('model-{epoch:03d}.model',monitor='val_loss',verbose=0,save_best_only=True,mode='auto')\n",
    "history=model.fit(train_data,train_target,epochs=15,callbacks=[checkpoint],validation_split=0.2)"
   ]
  },
  {
   "cell_type": "code",
   "execution_count": 85,
   "metadata": {},
   "outputs": [
    {
     "data": {
      "image/png": "[encoded data removed]",
      "text/plain": [
       "<Figure size 640x480 with 1 Axes>"
      ]
     },
     "metadata": {},
     "output_type": "display_data"
    }
   ],
   "source": [
    "from matplotlib import pyplot as plt\n",
    "\n",
    "plt.plot(history.history['loss'],'r',label='training loss')\n",
    "plt.plot(history.history['val_loss'],label='validation loss')\n",
    "plt.xlabel('# epochs')\n",
    "plt.ylabel('loss')\n",
    "plt.legend()\n",
    "plt.show()"
   ]
  },
  {
   "cell_type": "code",
   "execution_count": null,
   "metadata": {},
   "outputs": [],
   "source": []
  }
 ],
 "metadata": {
  "kernelspec": {
   "display_name": "Python 3",
   "language": "python",
   "name": "python3"
  },
  "language_info": {
   "codemirror_mode": {
    "name": "ipython",
    "version": 3
   },
   "file_extension": ".py",
   "mimetype": "text/x-python",
   "name": "python",
   "nbconvert_exporter": "python",
   "pygments_lexer": "ipython3",
   "version": "3.10.6"
  }
 },
 "nbformat": 4,
 "nbformat_minor": 4
}
